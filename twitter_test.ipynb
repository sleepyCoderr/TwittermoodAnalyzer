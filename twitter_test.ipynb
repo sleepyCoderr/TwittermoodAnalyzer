{
 "cells": [
  {
   "cell_type": "code",
   "execution_count": 1,
   "metadata": {},
   "outputs": [],
   "source": [
    "import tweepy\n",
    "import json\n",
    "import math\n",
    "import glob\n",
    "import csv\n",
    "import zipfile\n",
    "import zlib\n",
    "from tweepy import TweepError\n",
    "from time import sleep\n",
    "import twitter_credentials\n",
    "import oauth2 as oauth"
   ]
  },
  {
   "cell_type": "code",
   "execution_count": 2,
   "metadata": {},
   "outputs": [],
   "source": [
    "user = 'realdonaldtrump'"
   ]
  },
  {
   "cell_type": "code",
   "execution_count": 3,
   "metadata": {},
   "outputs": [
    {
     "data": {
      "text/plain": [
       "<oauth2.Client at 0x26a5aa6d0f0>"
      ]
     },
     "execution_count": 3,
     "metadata": {},
     "output_type": "execute_result"
    }
   ],
   "source": [
    "consumer=oauth.Consumer(key=twitter_credentials.CONSUMER_KEY,secret=twitter_credentials.CONSUMER_SECRET)\n",
    "access_token=oauth.Token(key=twitter_credentials.ACCESS_TOKEN,secret=twitter_credentials.ACCESS_TOKEN_SECRET)\n",
    "client=oauth.Client(consumer,access_token)\n",
    "client"
   ]
  },
  {
   "cell_type": "code",
   "execution_count": 35,
   "metadata": {},
   "outputs": [],
   "source": [
    "user = user.lower()\n",
    "output_file = '{}.json'.format(user)\n",
    "output_file_short = '{}_short.json'.format(user)\n",
    "compression = zipfile.ZIP_DEFLATED"
   ]
  },
  {
   "cell_type": "code",
   "execution_count": 7,
   "metadata": {},
   "outputs": [],
   "source": [
    "with open('all_ids.json') as f:\n",
    "    ids = json.load(f)"
   ]
  },
  {
   "cell_type": "code",
   "execution_count": 8,
   "metadata": {},
   "outputs": [
    {
     "name": "stdout",
     "output_type": "stream",
     "text": [
      "total ids: 2779\n"
     ]
    }
   ],
   "source": [
    "print('total ids: {}'.format(len(ids)))\n"
   ]
  },
  {
   "cell_type": "code",
   "execution_count": 32,
   "metadata": {},
   "outputs": [],
   "source": [
    "all_data = []\n",
    "start = 0\n",
    "end = 100\n",
    "limit = len(ids)\n",
    "i = math.ceil(limit / 100)"
   ]
  },
  {
   "cell_type": "code",
   "execution_count": 33,
   "metadata": {},
   "outputs": [
    {
     "name": "stdout",
     "output_type": "stream",
     "text": [
      "currently getting 0 - 100\n",
      "currently getting 100 - 200\n",
      "currently getting 200 - 300\n",
      "currently getting 300 - 400\n",
      "currently getting 400 - 500\n",
      "currently getting 500 - 600\n",
      "currently getting 600 - 700\n",
      "currently getting 700 - 800\n",
      "currently getting 800 - 900\n",
      "currently getting 900 - 1000\n",
      "currently getting 1000 - 1100\n",
      "currently getting 1100 - 1200\n",
      "currently getting 1200 - 1300\n",
      "currently getting 1300 - 1400\n",
      "currently getting 1400 - 1500\n",
      "currently getting 1500 - 1600\n",
      "currently getting 1600 - 1700\n",
      "currently getting 1700 - 1800\n",
      "currently getting 1800 - 1900\n",
      "currently getting 1900 - 2000\n",
      "currently getting 2000 - 2100\n",
      "currently getting 2100 - 2200\n",
      "currently getting 2200 - 2300\n",
      "currently getting 2300 - 2400\n",
      "currently getting 2400 - 2500\n",
      "currently getting 2500 - 2600\n",
      "currently getting 2600 - 2700\n",
      "currently getting 2700 - 2800\n"
     ]
    }
   ],
   "source": [
    "for go in range(i):\n",
    "    print('currently getting {} - {}'.format(start, end))\n",
    "    sleep(6)  # needed to prevent hitting API rate limit\n",
    "    id_batch = ids[0:100]\n",
    "    for idx in id_batch:\n",
    "        url=f\"https://api.twitter.com/1.1/statuses/show.json?id={idx}&tweet_mode=extended\"\n",
    "        response,data=client.request(url)\n",
    "        tweets=json.loads(data)\n",
    "        all_data.append(tweets)\n",
    "    start += 100\n",
    "    end += 100\n",
    "#     # tweets = api.statuses_lookup(id_batch)\n"
   ]
  },
  {
   "cell_type": "code",
   "execution_count": 38,
   "metadata": {},
   "outputs": [
    {
     "name": "stdout",
     "output_type": "stream",
     "text": [
      "{'created_at': 'Mon Aug 20 11:28:45 +0000 2018', 'id': 1031503298967363586, 'id_str': '1031503298967363586', 'full_text': 'Disgraced and discredited Bob Mueller and his whole group of Angry Democrat Thugs spent over 30 hours with the White House Councel, only with my approval, for purposes of transparency. Anybody needing that much time when they know there is no Russian Collusion is just someone....', 'truncated': False, 'display_text_range': [0, 280], 'entities': {'hashtags': [], 'symbols': [], 'user_mentions': [], 'urls': []}, 'source': '<a href=\"http://twitter.com/download/iphone\" rel=\"nofollow\">Twitter for iPhone</a>', 'in_reply_to_status_id': None, 'in_reply_to_status_id_str': None, 'in_reply_to_user_id': None, 'in_reply_to_user_id_str': None, 'in_reply_to_screen_name': None, 'user': {'id': 25073877, 'id_str': '25073877', 'name': 'Donald J. Trump', 'screen_name': 'realDonaldTrump', 'location': 'Washington, DC', 'description': '45th President of the United States of America🇺🇸', 'url': 'https://t.co/OMxB0x7xC5', 'entities': {'url': {'urls': [{'url': 'https://t.co/OMxB0x7xC5', 'expanded_url': 'http://www.Instagram.com/realDonaldTrump', 'display_url': 'Instagram.com/realDonaldTrump', 'indices': [0, 23]}]}, 'description': {'urls': []}}, 'protected': False, 'followers_count': 57271673, 'friends_count': 45, 'listed_count': 98902, 'created_at': 'Wed Mar 18 13:46:38 +0000 2009', 'favourites_count': 7, 'utc_offset': None, 'time_zone': None, 'geo_enabled': True, 'verified': True, 'statuses_count': 40227, 'lang': 'en', 'contributors_enabled': False, 'is_translator': False, 'is_translation_enabled': True, 'profile_background_color': '6D5C18', 'profile_background_image_url': 'http://abs.twimg.com/images/themes/theme1/bg.png', 'profile_background_image_url_https': 'https://abs.twimg.com/images/themes/theme1/bg.png', 'profile_background_tile': True, 'profile_image_url': 'http://pbs.twimg.com/profile_images/874276197357596672/kUuht00m_normal.jpg', 'profile_image_url_https': 'https://pbs.twimg.com/profile_images/874276197357596672/kUuht00m_normal.jpg', 'profile_banner_url': 'https://pbs.twimg.com/profile_banners/25073877/1543104015', 'profile_link_color': '1B95E0', 'profile_sidebar_border_color': 'BDDCAD', 'profile_sidebar_fill_color': 'C5CEC0', 'profile_text_color': '333333', 'profile_use_background_image': True, 'has_extended_profile': False, 'default_profile': False, 'default_profile_image': False, 'following': False, 'follow_request_sent': False, 'notifications': False, 'translator_type': 'regular'}, 'geo': None, 'coordinates': None, 'place': None, 'contributors': None, 'is_quote_status': False, 'retweet_count': 17865, 'favorite_count': 73341, 'favorited': False, 'retweeted': False, 'lang': 'en'}\n"
     ]
    }
   ],
   "source": [
    "print(all_data[0])"
   ]
  },
  {
   "cell_type": "code",
   "execution_count": 36,
   "metadata": {},
   "outputs": [
    {
     "name": "stdout",
     "output_type": "stream",
     "text": [
      "metadata collection complete\n",
      "creating master json file\n",
      "creating ziped master json file\n"
     ]
    }
   ],
   "source": [
    "print('metadata collection complete')\n",
    "print('creating master json file')\n",
    "with open(output_file, 'w') as outfile:\n",
    "    json.dump(all_data, outfile)\n",
    "print('creating ziped master json file')\n",
    "zf = zipfile.ZipFile('{}.zip'.format(user), mode='w')\n",
    "zf.write(output_file, compress_type=compression)\n",
    "zf.close()\n",
    "results = []\n"
   ]
  },
  {
   "cell_type": "code",
   "execution_count": 49,
   "metadata": {},
   "outputs": [
    {
     "ename": "KeyError",
     "evalue": "'created_at'",
     "output_type": "error",
     "traceback": [
      "\u001b[1;31m---------------------------------------------------------------------------\u001b[0m",
      "\u001b[1;31mKeyError\u001b[0m                                  Traceback (most recent call last)",
      "\u001b[1;32m<ipython-input-49-a39bd00fb8cf>\u001b[0m in \u001b[0;36m<module>\u001b[1;34m()\u001b[0m\n\u001b[0;32m     12\u001b[0m     \u001b[1;32mfor\u001b[0m \u001b[0mentry\u001b[0m \u001b[1;32min\u001b[0m \u001b[0mdata\u001b[0m\u001b[1;33m:\u001b[0m\u001b[1;33m\u001b[0m\u001b[0m\n\u001b[0;32m     13\u001b[0m         t = {\n\u001b[1;32m---> 14\u001b[1;33m             \u001b[1;34m\"created_at\"\u001b[0m\u001b[1;33m:\u001b[0m \u001b[0mentry\u001b[0m\u001b[1;33m[\u001b[0m\u001b[1;34m\"created_at\"\u001b[0m\u001b[1;33m]\u001b[0m\u001b[1;33m,\u001b[0m\u001b[1;33m\u001b[0m\u001b[0m\n\u001b[0m\u001b[0;32m     15\u001b[0m             \u001b[1;34m\"full_text\"\u001b[0m\u001b[1;33m:\u001b[0m \u001b[0mentry\u001b[0m\u001b[1;33m[\u001b[0m\u001b[1;34m\"full_text\"\u001b[0m\u001b[1;33m]\u001b[0m\u001b[1;33m,\u001b[0m\u001b[1;33m\u001b[0m\u001b[0m\n\u001b[0;32m     16\u001b[0m             \u001b[1;34m\"in_reply_to_screen_name\"\u001b[0m\u001b[1;33m:\u001b[0m \u001b[0mentry\u001b[0m\u001b[1;33m[\u001b[0m\u001b[1;34m\"in_reply_to_screen_name\"\u001b[0m\u001b[1;33m]\u001b[0m\u001b[1;33m,\u001b[0m\u001b[1;33m\u001b[0m\u001b[0m\n",
      "\u001b[1;31mKeyError\u001b[0m: 'created_at'"
     ]
    }
   ],
   "source": [
    "def is_retweet(entry):\n",
    "    return 'retweeted_status' in entry.keys()\n",
    "\n",
    "def get_source(entry):\n",
    "    if '<' in entry[\"source\"]:\n",
    "        return entry[\"source\"].split('>')[1].split('<')[0]\n",
    "    else:\n",
    "        return entry[\"source\"]\n",
    "\n",
    "with open(output_file) as json_data:\n",
    "    data = json.load(json_data)\n",
    "    for entry in data:\n",
    "        t = {\n",
    "            \"created_at\": entry[\"created_at\"],\n",
    "            \"full_text\": entry[\"full_text\"],\n",
    "            \"in_reply_to_screen_name\": entry[\"in_reply_to_screen_name\"],\n",
    "            \"retweet_count\": entry[\"retweet_count\"],\n",
    "            \"favorite_count\": entry[\"favorite_count\"],\n",
    "            \"source\": get_source(entry),\n",
    "            \"id_str\": entry[\"id_str\"],\n",
    "            \"is_retweet\": is_retweet(entry)\n",
    "        }\n",
    "        results.append(t)\n",
    "print('creating minimized json master file')\n",
    "with open(output_file_short, 'w') as outfile:\n",
    "    json.dump(results, outfile)\n",
    "    \n"
   ]
  },
  {
   "cell_type": "code",
   "execution_count": null,
   "metadata": {},
   "outputs": [],
   "source": []
  },
  {
   "cell_type": "code",
   "execution_count": null,
   "metadata": {},
   "outputs": [],
   "source": []
  }
 ],
 "metadata": {
  "kernelspec": {
   "display_name": "Python 3",
   "language": "python",
   "name": "python3"
  },
  "language_info": {
   "codemirror_mode": {
    "name": "ipython",
    "version": 3
   },
   "file_extension": ".py",
   "mimetype": "text/x-python",
   "name": "python",
   "nbconvert_exporter": "python",
   "pygments_lexer": "ipython3",
   "version": "3.6.4"
  }
 },
 "nbformat": 4,
 "nbformat_minor": 2
}
