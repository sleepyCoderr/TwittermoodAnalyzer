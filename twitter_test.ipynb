{
 "cells": [
  {
   "cell_type": "code",
   "execution_count": 104,
   "metadata": {},
   "outputs": [],
   "source": [
    "import tweepy\n",
    "import json\n",
    "import math\n",
    "import glob\n",
    "import csv\n",
    "import zipfile\n",
    "import zlib\n",
    "from tweepy import TweepError\n",
    "from time import sleep\n",
    "import twitter_credentials\n",
    "import oauth2 as oauth"
   ]
  },
  {
   "cell_type": "code",
   "execution_count": 105,
   "metadata": {},
   "outputs": [],
   "source": [
    "user = 'realdonaldtrump'"
   ]
  },
  {
   "cell_type": "code",
   "execution_count": 106,
   "metadata": {},
   "outputs": [
    {
     "data": {
      "text/plain": [
       "<oauth2.Client at 0x148c7dc5dd8>"
      ]
     },
     "execution_count": 106,
     "metadata": {},
     "output_type": "execute_result"
    }
   ],
   "source": [
    "consumer=oauth.Consumer(key=twitter_credentials.CONSUMER_KEY,secret=twitter_credentials.CONSUMER_SECRET)\n",
    "access_token=oauth.Token(key=twitter_credentials.ACCESS_TOKEN,secret=twitter_credentials.ACCESS_TOKEN_SECRET)\n",
    "client=oauth.Client(consumer,access_token)\n",
    "client"
   ]
  },
  {
   "cell_type": "code",
   "execution_count": 107,
   "metadata": {},
   "outputs": [],
   "source": [
    "user = user.lower()\n",
    "output_file = '{}.json'.format(user)\n",
    "output_file_short = '{}_short.json'.format(user)\n",
    "compression = zipfile.ZIP_DEFLATED"
   ]
  },
  {
   "cell_type": "code",
   "execution_count": 108,
   "metadata": {},
   "outputs": [],
   "source": [
    "with open('all_ids.json') as f:\n",
    "    ids = json.load(f)"
   ]
  },
  {
   "cell_type": "code",
   "execution_count": 109,
   "metadata": {},
   "outputs": [
    {
     "name": "stdout",
     "output_type": "stream",
     "text": [
      "total ids: 2779\n"
     ]
    }
   ],
   "source": [
    "print('total ids: {}'.format(len(ids)))\n"
   ]
  },
  {
   "cell_type": "code",
   "execution_count": 123,
   "metadata": {},
   "outputs": [
    {
     "name": "stdout",
     "output_type": "stream",
     "text": [
      "5\n"
     ]
    }
   ],
   "source": [
    "all_data = []\n",
    "start = 0\n",
    "end = 100\n",
    "limit = 500\n",
    "i = math.ceil(limit / 100)\n",
    "print(i)"
   ]
  },
  {
   "cell_type": "code",
   "execution_count": 124,
   "metadata": {},
   "outputs": [
    {
     "name": "stdout",
     "output_type": "stream",
     "text": [
      "currently getting 0 - 100\n",
      "1031503298967363586\n",
      "1057997981922873344\n",
      "1029717542842052608\n",
      "961073467784421382\n",
      "1007972046666690561\n",
      "1022447980408983552\n",
      "1008506045373845504\n",
      "1035717747936768000\n",
      "969272683061022721\n",
      "985133017256660995\n",
      "988056354567917568\n",
      "1064734907941994497\n",
      "1014702302408642562\n",
      "1006833568641777664\n",
      "980794173279342592\n",
      "1047486972976095233\n",
      "986432143189512192\n",
      "1022614701665148934\n",
      "1038438594543845378\n",
      "1012437964373123072\n",
      "1041451203442487297\n",
      "987278269765517312\n",
      "1003949263481696256\n",
      "1011703668721246209\n",
      "1044540438806482944\n",
      "1029911186949767168\n",
      "953795518592843777\n",
      "1000554657859670016\n",
      "953794085751574534\n",
      "1034810550025433090\n",
      "968702480753315840\n",
      "1027545694201159680\n",
      "1068181371883909121\n",
      "1022224319336726528\n",
      "1001420270094168064\n",
      "954678287820902401\n",
      "965775382598311937\n",
      "1002177521599860736\n",
      "1050111823842893824\n",
      "1048197648807854080\n",
      "1050054830843199490\n",
      "948174033882927104\n",
      "972622325454659585\n",
      "977124622285066240\n",
      "968620661349470209\n",
      "1003832766511894528\n",
      "1070110615627333632\n",
      "965943827931549696\n",
      "1022872576211730432\n",
      "1009435777992884227\n",
      "1041330897948160002\n",
      "1070877381861277696\n",
      "999010902472122368\n",
      "1035718119459893250\n",
      "1037664539284844545\n",
      "1039117933623078912\n",
      "1061954325843468288\n",
      "1057092628951502849\n",
      "1028626569475051522\n",
      "1007239837529800705\n",
      "1029745594540150784\n",
      "1030239036093411328\n",
      "1021815138469457920\n",
      "1053355470449127424\n",
      "977875057572745216\n",
      "974859881827258369\n",
      "1002884227753480193\n",
      "1044903785125089281\n",
      "993492804985872385\n",
      "1022877332858650624\n",
      "1061383163811893248\n",
      "950103659337134080\n",
      "1053662989272793089\n",
      "1069678284580012032\n",
      "1030235363258851328\n",
      "1057247021919297536\n",
      "1035148684432953346\n",
      "1004092104488947719\n",
      "968462966864609280\n",
      "1010113882344558592\n",
      "950884128379035650\n",
      "976405122757558272\n",
      "951457382651056128\n",
      "1018738368753078273\n",
      "1042925680109924352\n",
      "1025177042470535168\n",
      "1035255721951035392\n",
      "995680316458262533\n",
      "1014295759393644545\n",
      "1009579307847553024\n",
      "1032017630662729728\n",
      "1024396639216140288\n",
      "1013146187510243328\n",
      "976654851684945920\n",
      "1015723140364865536\n",
      "967564998238142471\n",
      "994179864436596736\n",
      "1065583286188158976\n",
      "975891861863829504\n",
      "1029706933706661889\n",
      "currently getting 100 - 200\n",
      "1031503298967363586\n",
      "1057997981922873344\n",
      "1029717542842052608\n",
      "961073467784421382\n",
      "1007972046666690561\n",
      "1022447980408983552\n",
      "1008506045373845504\n",
      "1035717747936768000\n",
      "969272683061022721\n",
      "985133017256660995\n",
      "988056354567917568\n",
      "1064734907941994497\n",
      "1014702302408642562\n",
      "1006833568641777664\n",
      "980794173279342592\n",
      "1047486972976095233\n",
      "986432143189512192\n",
      "1022614701665148934\n",
      "1038438594543845378\n",
      "1012437964373123072\n",
      "1041451203442487297\n",
      "987278269765517312\n",
      "1003949263481696256\n",
      "1011703668721246209\n",
      "1044540438806482944\n",
      "1029911186949767168\n",
      "953795518592843777\n",
      "1000554657859670016\n",
      "953794085751574534\n",
      "1034810550025433090\n",
      "968702480753315840\n",
      "1027545694201159680\n",
      "1068181371883909121\n",
      "1022224319336726528\n",
      "1001420270094168064\n",
      "954678287820902401\n",
      "965775382598311937\n",
      "1002177521599860736\n",
      "1050111823842893824\n",
      "1048197648807854080\n",
      "1050054830843199490\n",
      "948174033882927104\n",
      "972622325454659585\n",
      "977124622285066240\n",
      "968620661349470209\n",
      "1003832766511894528\n",
      "1070110615627333632\n",
      "965943827931549696\n",
      "1022872576211730432\n",
      "1009435777992884227\n",
      "1041330897948160002\n",
      "1070877381861277696\n",
      "999010902472122368\n",
      "1035718119459893250\n",
      "1037664539284844545\n",
      "1039117933623078912\n",
      "1061954325843468288\n",
      "1057092628951502849\n",
      "1028626569475051522\n",
      "1007239837529800705\n",
      "1029745594540150784\n",
      "1030239036093411328\n",
      "1021815138469457920\n",
      "1053355470449127424\n",
      "977875057572745216\n",
      "974859881827258369\n",
      "1002884227753480193\n",
      "1044903785125089281\n",
      "993492804985872385\n",
      "1022877332858650624\n",
      "1061383163811893248\n",
      "950103659337134080\n",
      "1053662989272793089\n",
      "1069678284580012032\n",
      "1030235363258851328\n",
      "1057247021919297536\n",
      "1035148684432953346\n",
      "1004092104488947719\n",
      "968462966864609280\n",
      "1010113882344558592\n",
      "950884128379035650\n",
      "976405122757558272\n",
      "951457382651056128\n",
      "1018738368753078273\n",
      "1042925680109924352\n",
      "1025177042470535168\n",
      "1035255721951035392\n",
      "995680316458262533\n",
      "1014295759393644545\n",
      "1009579307847553024\n",
      "1032017630662729728\n",
      "1024396639216140288\n",
      "1013146187510243328\n",
      "976654851684945920\n",
      "1015723140364865536\n",
      "967564998238142471\n",
      "994179864436596736\n",
      "1065583286188158976\n",
      "975891861863829504\n",
      "1029706933706661889\n",
      "currently getting 200 - 300\n"
     ]
    },
    {
     "ename": "KeyboardInterrupt",
     "evalue": "",
     "output_type": "error",
     "traceback": [
      "\u001b[1;31m---------------------------------------------------------------------------\u001b[0m",
      "\u001b[1;31mKeyboardInterrupt\u001b[0m                         Traceback (most recent call last)",
      "\u001b[1;32m<ipython-input-124-d77afb2a12c0>\u001b[0m in \u001b[0;36m<module>\u001b[1;34m()\u001b[0m\n\u001b[0;32m      1\u001b[0m \u001b[1;32mfor\u001b[0m \u001b[0mgo\u001b[0m \u001b[1;32min\u001b[0m \u001b[0mrange\u001b[0m\u001b[1;33m(\u001b[0m\u001b[0mi\u001b[0m\u001b[1;33m)\u001b[0m\u001b[1;33m:\u001b[0m\u001b[1;33m\u001b[0m\u001b[0m\n\u001b[0;32m      2\u001b[0m     \u001b[0mprint\u001b[0m\u001b[1;33m(\u001b[0m\u001b[1;34m'currently getting {} - {}'\u001b[0m\u001b[1;33m.\u001b[0m\u001b[0mformat\u001b[0m\u001b[1;33m(\u001b[0m\u001b[0mstart\u001b[0m\u001b[1;33m,\u001b[0m \u001b[0mend\u001b[0m\u001b[1;33m)\u001b[0m\u001b[1;33m)\u001b[0m\u001b[1;33m\u001b[0m\u001b[0m\n\u001b[1;32m----> 3\u001b[1;33m     \u001b[0msleep\u001b[0m\u001b[1;33m(\u001b[0m\u001b[1;36m6\u001b[0m\u001b[1;33m)\u001b[0m  \u001b[1;31m# needed to prevent hitting API rate limit\u001b[0m\u001b[1;33m\u001b[0m\u001b[0m\n\u001b[0m\u001b[0;32m      4\u001b[0m     \u001b[0mid_batch\u001b[0m \u001b[1;33m=\u001b[0m \u001b[0mids\u001b[0m\u001b[1;33m[\u001b[0m\u001b[1;36m0\u001b[0m\u001b[1;33m:\u001b[0m\u001b[1;36m100\u001b[0m\u001b[1;33m]\u001b[0m\u001b[1;33m\u001b[0m\u001b[0m\n\u001b[0;32m      5\u001b[0m     \u001b[1;32mfor\u001b[0m \u001b[0midx\u001b[0m \u001b[1;32min\u001b[0m \u001b[0mid_batch\u001b[0m\u001b[1;33m:\u001b[0m\u001b[1;33m\u001b[0m\u001b[0m\n",
      "\u001b[1;31mKeyboardInterrupt\u001b[0m: "
     ]
    }
   ],
   "source": [
    "for go in range(i):\n",
    "    print('currently getting {} - {}'.format(start, end))\n",
    "    sleep(6)  # needed to prevent hitting API rate limit\n",
    "    id_batch = ids[0:100]\n",
    "    for idx in id_batch:\n",
    "        print(idx)\n",
    "    start += 100\n",
    "    end += 100\n",
    "#     # tweets = api.statuses_lookup(id_batch)\n",
    "#     url=f\"https://api.twitter.com/1.1/statuses/show.json?id={id_batch[i]}&tweet_mode=extended\"\n",
    "#     response,data=client.request(url)\n",
    "#     tweets=json.loads(data)\n",
    "#     all_data.append(tweets)"
   ]
  },
  {
   "cell_type": "code",
   "execution_count": 100,
   "metadata": {},
   "outputs": [
    {
     "name": "stdout",
     "output_type": "stream",
     "text": [
      "metadata collection complete\n",
      "creating master json file\n",
      "creating ziped master json file\n"
     ]
    }
   ],
   "source": [
    "print('metadata collection complete')\n",
    "print('creating master json file')\n",
    "with open(output_file, 'w') as outfile:\n",
    "    json.dump(all_data, outfile)\n",
    "print('creating ziped master json file')\n",
    "zf = zipfile.ZipFile('{}.zip'.format(user), mode='w')\n",
    "zf.write(output_file, compress_type=compression)\n",
    "zf.close()\n",
    "results = []\n"
   ]
  },
  {
   "cell_type": "code",
   "execution_count": 102,
   "metadata": {},
   "outputs": [],
   "source": [
    "def is_retweet(entry):\n",
    "    return 'retweeted_status' in entry.keys()\n",
    "\n",
    "def get_source(entry):\n",
    "    if '<' in entry[\"source\"]:\n",
    "        return entry[\"source\"].split('>')[1].split('<')[0]\n",
    "    else:\n",
    "        return entry[\"source\"]\n",
    "\n",
    "with open(output_file) as json_data:\n",
    "    data = json.load(json_data)\n",
    "    for entry in data:\n",
    "        t = {\n",
    "            \"created_at\": entry[\"created_at\"],\n",
    "            \"full_text\": entry[\"full_text\"],\n",
    "            \"in_reply_to_screen_name\": entry[\"in_reply_to_screen_name\"],\n",
    "            \"retweet_count\": entry[\"retweet_count\"],\n",
    "            \"favorite_count\": entry[\"favorite_count\"],\n",
    "            \"source\": get_source(entry),\n",
    "            \"id_str\": entry[\"id_str\"],\n",
    "            \"is_retweet\": is_retweet(entry)\n",
    "        }\n",
    "        results.append(t)"
   ]
  },
  {
   "cell_type": "code",
   "execution_count": null,
   "metadata": {},
   "outputs": [],
   "source": []
  }
 ],
 "metadata": {
  "kernelspec": {
   "display_name": "Python 3",
   "language": "python",
   "name": "python3"
  },
  "language_info": {
   "codemirror_mode": {
    "name": "ipython",
    "version": 3
   },
   "file_extension": ".py",
   "mimetype": "text/x-python",
   "name": "python",
   "nbconvert_exporter": "python",
   "pygments_lexer": "ipython3",
   "version": "3.6.5"
  }
 },
 "nbformat": 4,
 "nbformat_minor": 2
}
