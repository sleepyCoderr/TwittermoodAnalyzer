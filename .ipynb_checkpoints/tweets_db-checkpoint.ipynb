{
 "cells": [
  {
   "cell_type": "code",
   "execution_count": 58,
   "metadata": {},
   "outputs": [],
   "source": [
    "import pymongo\n",
    "from pymongo import MongoClient\n",
    "from bson import json_util\n",
    "import json\n",
    "import pprint\n",
    "import datetime\n",
    "from pytz import timezone\n",
    "import pytz\n",
    "import bson\n",
    "from bson.objectid import ObjectId"
   ]
  },
  {
   "cell_type": "code",
   "execution_count": 59,
   "metadata": {},
   "outputs": [],
   "source": [
    "client=MongoClient()\n",
    "db=client['tweetsdb']\n",
    "tweets=db['tweets']"
   ]
  },
  {
   "cell_type": "code",
   "execution_count": 4,
   "metadata": {},
   "outputs": [],
   "source": [
    "# with open('realdonaldtrump.json') as f:\n",
    "#     file_data = json.load(f)\n",
    "#     tweets.insert_many(file_data)\n"
   ]
  },
  {
   "cell_type": "code",
   "execution_count": 5,
   "metadata": {},
   "outputs": [],
   "source": [
    "# client.close()"
   ]
  },
  {
   "cell_type": "code",
   "execution_count": 38,
   "metadata": {},
   "outputs": [],
   "source": [
    "\n",
    "def insertupdate(id_t):\n",
    "    twt=tweets.find_one({\"_id\":id_t})\n",
    "    return twt\n",
    "#     tweets.findOne({})\n"
   ]
  },
  {
   "cell_type": "code",
   "execution_count": 64,
   "metadata": {},
   "outputs": [
    {
     "ename": "KeyError",
     "evalue": "'errors'",
     "output_type": "error",
     "traceback": [
      "\u001b[1;31m---------------------------------------------------------------------------\u001b[0m",
      "\u001b[1;31mKeyError\u001b[0m                                  Traceback (most recent call last)",
      "\u001b[1;32m<ipython-input-64-c36a953ce32d>\u001b[0m in \u001b[0;36m<module>\u001b[1;34m()\u001b[0m\n\u001b[0;32m      4\u001b[0m \u001b[1;33m\u001b[0m\u001b[0m\n\u001b[0;32m      5\u001b[0m \u001b[1;32mfor\u001b[0m \u001b[0mtwts\u001b[0m \u001b[1;32min\u001b[0m \u001b[0merror\u001b[0m\u001b[1;33m:\u001b[0m\u001b[1;33m\u001b[0m\u001b[0m\n\u001b[1;32m----> 6\u001b[1;33m     \u001b[0merrorMessage\u001b[0m\u001b[1;33m=\u001b[0m\u001b[0mtwts\u001b[0m\u001b[1;33m[\u001b[0m\u001b[1;34m\"errors\"\u001b[0m\u001b[1;33m]\u001b[0m\u001b[1;33m\u001b[0m\u001b[0m\n\u001b[0m\u001b[0;32m      7\u001b[0m \u001b[1;31m#     date=datetime.datetime.strptime(twts[\"created_at\"],'%a %b %d %H:%M:%S +0000 %Y').replace(tzinfo=pytz.UTC)\u001b[0m\u001b[1;33m\u001b[0m\u001b[1;33m\u001b[0m\u001b[0m\n\u001b[0;32m      8\u001b[0m \u001b[1;31m#     dict_one={\"Month\":date.strftime(\"%b\"),\"Day\":date.strftime(\"%a\"),\"Year\":date.year}\u001b[0m\u001b[1;33m\u001b[0m\u001b[1;33m\u001b[0m\u001b[0m\n",
      "\u001b[1;31mKeyError\u001b[0m: 'errors'"
     ]
    }
   ],
   "source": [
    "# created_at=tweets.find({},{\"created_at\":1,\"_id\":1})\n",
    "error=tweets.find({},{\"errors\":1,\"_id\":1})\n",
    "# date=datetime.datetime.strptime(twts[\"created_at\"],'%a %b %d %H:%M:%S +0000 %Y').replace(tzinfo=pytz.UTC)\n",
    "\n",
    "for twts in error:\n",
    "    errorMessage=twts[\"errors\"]\n",
    "#     date=datetime.datetime.strptime(twts[\"created_at\"],'%a %b %d %H:%M:%S +0000 %Y').replace(tzinfo=pytz.UTC)\n",
    "#     dict_one={\"Month\":date.strftime(\"%b\"),\"Day\":date.strftime(\"%a\"),\"Year\":date.year}\n",
    "    pprint.pprint(error)\n",
    "# insertupdate(tweet_id)\n",
    "    \n",
    "#     db.tweets.update_one({\"_id\" : \"ObjectId(5c472a8dab09a13be42c210a\")\"},{\"$set\":{\"created_at\":{\"parts\":dict_one}}})\n",
    "# tweets.update_many({},{\"$set\":{\"created_at\":date_dict}})\n"
   ]
  },
  {
   "cell_type": "code",
   "execution_count": 57,
   "metadata": {},
   "outputs": [],
   "source": [
    "\n",
    "\n",
    "\n",
    "\n",
    "# data_1=collection_tweets.aggregate([{\"$project\": {\"created_at\":{\"$dateToParts\":{\"date\":\"$toDate\"}\n",
    "#                                                 }\n",
    "#                                                 }}])\n",
    "\n",
    "# # data_1=collection_tweets.aggregate([\n",
    "# #  {\n",
    "# #     \"$project\": {\n",
    "# #        \"created_at\": {\n",
    "# #           \"$dateToParts\": { \"date\": \"$january 29\" }\n",
    "# #        },\n",
    "# #        \"date_iso\": {\n",
    "# #           \"$dateToParts\": { \"date\": \"$date\", \"iso8601\": True }\n",
    "# #        },\n",
    "# #        \"date_timezone\": {\n",
    "# #           \"$dateToParts\": { \"date\": \"$date\", \"timezone\": \"America/New_York\" }\n",
    "# #        }\n",
    "# #     }\n",
    "# # }])\n",
    "# for twts in data_1:\n",
    "#     pprint.pprint(twts)"
   ]
  },
  {
   "cell_type": "code",
   "execution_count": 228,
   "metadata": {},
   "outputs": [],
   "source": [
    "# data=collection_tweets.aggregate( [ {\n",
    "#    \"$project\": {\n",
    "#       \"date\": {\n",
    "#          \"$dateFromString\": {\n",
    "#             \"dateString\": 'Mon Jun 18 00:25:53 +0000 2018'\n",
    "#          }\n",
    "#       }\n",
    "#    }\n",
    "# } ] )\n",
    "\n",
    "# for twts in data:\n",
    "#     pprint.pprint(twts)"
   ]
  },
  {
   "cell_type": "code",
   "execution_count": 47,
   "metadata": {},
   "outputs": [
    {
     "name": "stdout",
     "output_type": "stream",
     "text": [
      "('Disgraced and discredited Bob Mueller and his whole group of Angry Democrat '\n",
      " 'Thugs spent over 30 hours with the White House Councel, only with my '\n",
      " 'approval, for purposes of transparency. Anybody needing that much time when '\n",
      " 'they know there is no Russian Collusion is just someone....')\n"
     ]
    }
   ],
   "source": [
    "data=tweets.find_one({\"_id\":ObjectId(\"5c472b55ab09a13be42c2be7\")})\n",
    "pprint.pprint(data[\"full_text\"])"
   ]
  },
  {
   "cell_type": "code",
   "execution_count": null,
   "metadata": {},
   "outputs": [],
   "source": []
  }
 ],
 "metadata": {
  "kernelspec": {
   "display_name": "Python 3",
   "language": "python",
   "name": "python3"
  },
  "language_info": {
   "codemirror_mode": {
    "name": "ipython",
    "version": 3
   },
   "file_extension": ".py",
   "mimetype": "text/x-python",
   "name": "python",
   "nbconvert_exporter": "python",
   "pygments_lexer": "ipython3",
   "version": "3.6.5"
  }
 },
 "nbformat": 4,
 "nbformat_minor": 2
}
