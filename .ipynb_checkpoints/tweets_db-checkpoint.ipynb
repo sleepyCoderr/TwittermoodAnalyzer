{
 "cells": [
  {
   "cell_type": "code",
   "execution_count": 1,
   "metadata": {},
   "outputs": [],
   "source": [
    "import pymongo\n",
    "from pymongo import MongoClient\n",
    "from bson import json_util\n",
    "import json\n",
    "import pprint\n",
    "import datetime\n",
    "from pytz import timezone\n",
    "import pytz\n",
    "import bson\n",
    "from bson.objectid import ObjectId\n",
    "import time"
   ]
  },
  {
   "cell_type": "code",
   "execution_count": 2,
   "metadata": {},
   "outputs": [],
   "source": [
    "client=MongoClient()\n",
    "db=client['tweetsdb']\n",
    "tweets=db['tweets']\n",
    "# tweets=db['tweets17']"
   ]
  },
  {
   "cell_type": "code",
   "execution_count": 7,
   "metadata": {},
   "outputs": [],
   "source": [
    "# with open('realdonaldtrump.json') as f:\n",
    "#     file_data = json.load(f)\n",
    "#     tweets.insert_many(file_data)\n"
   ]
  },
  {
   "cell_type": "code",
   "execution_count": 8,
   "metadata": {},
   "outputs": [],
   "source": [
    "# client.close()"
   ]
  },
  {
   "cell_type": "code",
   "execution_count": 3,
   "metadata": {},
   "outputs": [],
   "source": [
    "#thess function updates(adds to the collection) if necessary\n",
    "def insertupdate(id_t,tweet_date):\n",
    "    try:\n",
    "        tweets.update_one({\"_id\":ObjectId(f\"{id_t}\")},{\"$set\":{\"created_at_parts\":tweet_date}})\n",
    "    except Exception as e:\n",
    "        print(e)\n",
    "    else:\n",
    "        print(\"no errors\")\n",
    "#     tweets.insert_one({})\n",
    "\n",
    "\n",
    "\n",
    "# def convertoint(id_t,tweet_date):\n",
    "#     try:\n",
    "#         tweets.update_one({\"_id\":ObjectId(f\"{id_t}\")},{\"$set\":{\"created_at_parts.Day\":tweet_date}})\n",
    "#     except Exception as e:\n",
    "#         print(e)\n",
    "\n",
    "def insertime(id_t,tweet_time):\n",
    "    try:\n",
    "        tweets.update_one({\"_id\":ObjectId(f\"{id_t}\")},{\"$set\":{\"created_at_parts.time\":tweet_time}})\n",
    "    except Exception as e:\n",
    "        print(e)\n",
    "        \n",
    "        \n",
    "#update (2/13/2019) hours mins sec not necessary\n",
    "# def insert_time_parts(id_t,hour_time):\n",
    "#     try:\n",
    "#         tweets.update_one({\"_id\":ObjectId(f\"{id_t}\")},{\"$set\":{\"created_at_parts.hour\":int(hour_time)}})\n",
    "#     except Exception as e:\n",
    "#         print(e)\n",
    "        \n",
    "        \n",
    "#adds minutes as a seprate field \n",
    "#update (2/13/2019) mins sec not necessary\n",
    "# def insert_time_min(id_t,min_time):\n",
    "#     try:\n",
    "#         tweets.update_one({\"_id\":ObjectId(f\"{id_t}\")},{\"$set\":{\"created_at_parts.mins\":int(min_time)}})\n",
    "#     except Exception as e:\n",
    "#         print(e)\n",
    "        \n",
    "# def insert_time_sec(id_t,sec_time):\n",
    "#     try:\n",
    "#         tweets.update_one({\"_id\":ObjectId(f\"{id_t}\")},{\"$set\":{\"created_at_parts.sec\":int(sec_time)}})\n",
    "#     except Exception as e:\n",
    "#         print(e)\n",
    "        \n",
    "        \n",
    "def insert_time_stamp(id_t,time_stamp):\n",
    "    try:\n",
    "        tweets.update_one({\"_id\":ObjectId(f\"{id_t}\")},{\"$set\":{\"created_at_parts.timestamp\":int(time_stamp)}})\n",
    "    except Exception as e:\n",
    "        print(e)\n",
    "        \n",
    "# insert a calendar format date into documents\n",
    "def insert_calendar_format(id_t,calendar):\n",
    "    try:\n",
    "        tweets.update_one({\"_id\":ObjectId(f\"{id_t}\")},{\"$set\":{\"created_at_parts.date\":calendar}})\n",
    "    except Exception as e:\n",
    "        print(e)\n",
    "        \n",
    "#insert sentiment analysis into documents\n",
    "def insert_sentiment(id_t,val_pol):    \n",
    "    try:\n",
    "        tweets.update_one({\"_id\":ObjectId(f\"{id_t}\")},{\"$set\":{\"polarity\":val_pol}})\n",
    "    except Exception as e:\n",
    "        print(e)\n",
    "        \n",
    "        \n",
    "        \n",
    "    \n",
    "    "
   ]
  },
  {
   "cell_type": "code",
   "execution_count": 5,
   "metadata": {},
   "outputs": [],
   "source": [
    "# #this block is to separate date string into separate parts\n",
    "created_at=tweets.find({},{\"created_at\":1,\"_id\":1})\n",
    "\n",
    "for twts in created_at:\n",
    "    date=datetime.datetime.strptime(twts[\"created_at\"],'%a %b %d %H:%M:%S +0000 %Y').replace(tzinfo=pytz.UTC)\n",
    "    ts = time.strftime('%Y-%m-%d %H:%M:%S', time.strptime(twts['created_at'],'%a %b %d %H:%M:%S +0000 %Y'))\n",
    "    dict_one={\"Month\":date.strftime(\"%b\"),\"Weekday\":date.strftime(\"%a\"),\"Day\":int(date.strftime(\"%d\")),\"Year\":date.year}\n",
    "#     intday=int(date.strftime(\"%d\"))\n",
    "    #tweet id\n",
    "    tweet_id=twts[\"_id\"]\n",
    "#     hour=date.strftime(\"%H\")\n",
    "#     minutes=date.strftime(\"%M\")\n",
    "#     sec=date.strftime(\"%S\")\n",
    "    tstamp=datetime.datetime.strptime(ts, \"%Y-%m-%d %H:%M:%S\").timestamp()\n",
    "    insert_calendar_format(tweet_id,ts[0:10])\n",
    "    insert_time_stamp(tweet_id,tstamp)\n",
    "#   insert_time_hour(tweet_id,hour)\n",
    "#     insert_time_min(tweet_id,minutes)\n",
    "#     insert_time_sec(tweet_id,sec)    \n",
    "#     insertime(tweet_id,time)\n",
    "#     convertoint(tweet_id,intday)\n",
    "#     insertupdate(tweet_id,dict_one)\n"
   ]
  },
  {
   "cell_type": "code",
   "execution_count": 15,
   "metadata": {},
   "outputs": [
    {
     "data": {
      "text/plain": [
       "{'Month': 'Aug', 'Weekday': 'Wed', 'Day': 23, 'Year': 2017}"
      ]
     },
     "execution_count": 15,
     "metadata": {},
     "output_type": "execute_result"
    }
   ],
   "source": [
    "dict_one"
   ]
  },
  {
   "cell_type": "code",
   "execution_count": 65,
   "metadata": {},
   "outputs": [
    {
     "name": "stdout",
     "output_type": "stream",
     "text": [
      "281\n"
     ]
    },
    {
     "name": "stderr",
     "output_type": "stream",
     "text": [
      "C:\\Users\\alnit\\Anaconda3\\lib\\site-packages\\ipykernel_launcher.py:10: DeprecationWarning: count is deprecated. Use estimated_document_count or count_documents instead. Please note that $where must be replaced by $expr, $near must be replaced by $geoWithin with $center, and $nearSphere must be replaced by $geoWithin with $centerSphere\n",
      "  # Remove the CWD from sys.path while we load stuff.\n"
     ]
    }
   ],
   "source": [
    "#testing to search for a word and how many times the word is mentioned\n",
    "\n",
    "#search for a specific word\n",
    "text_search=tweets.find({\"$text\": {\"$search\": \"fake news\"}})\n",
    "\n",
    "#word count\n",
    "word_count=tweets.count_documents({\"$text\": {\"$search\": \"hilary clinton\"}})\n",
    "\n",
    "#counts tweets in a month\n",
    "monthly_tweets=tweets.count({\"created_at_parts.Day\":\"Sep\"})\n",
    "\n",
    "print(monthly_tweets)\n",
    "# for search in text_search:\n",
    "#     pprint.pprint(search[\"full_text\"])\n",
    "    "
   ]
  },
  {
   "cell_type": "code",
   "execution_count": 164,
   "metadata": {},
   "outputs": [],
   "source": [
    "data()"
   ]
  },
  {
   "cell_type": "code",
   "execution_count": 88,
   "metadata": {},
   "outputs": [
    {
     "name": "stdout",
     "output_type": "stream",
     "text": [
      "<pymongo.cursor.Cursor object at 0x000002915EB58F98>\n"
     ]
    }
   ],
   "source": [
    "result=\"2018-12-1\"\n",
    "\n",
    "date_search=tweets.find({\"created_at_parts.date\":{\"$gt\":result}})\n",
    "pprint.pprint(date_search)"
   ]
  },
  {
   "cell_type": "code",
   "execution_count": null,
   "metadata": {},
   "outputs": [],
   "source": [
    "#Setting TextBlob to Each tweet\n",
    "results=tweets.find({},{\"full_text\":1,\"_id\":1})\n",
    "\n",
    "for d in results:\n",
    "    analysis=(TextBlob(d[\"full_text\"]))\n",
    "    tweet_id=twts[\"_id\"]\n",
    "\n",
    "    sentiment=analysis.sentiment\n",
    "    print(sentiment)\n",
    "    \n",
    "    "
   ]
  }
 ],
 "metadata": {
  "kernelspec": {
   "display_name": "Python 3",
   "language": "python",
   "name": "python3"
  },
  "language_info": {
   "codemirror_mode": {
    "name": "ipython",
    "version": 3
   },
   "file_extension": ".py",
   "mimetype": "text/x-python",
   "name": "python",
   "nbconvert_exporter": "python",
   "pygments_lexer": "ipython3",
   "version": "3.6.5"
  }
 },
 "nbformat": 4,
 "nbformat_minor": 2
}
