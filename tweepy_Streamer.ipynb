{
 "cells": [
  {
   "cell_type": "code",
   "execution_count": 41,
   "metadata": {},
   "outputs": [],
   "source": [
    "from tweepy import API \n",
    "from tweepy import Cursor\n",
    "from tweepy.streaming import StreamListener\n",
    "from tweepy import OAuthHandler\n",
    "from tweepy import Stream\n",
    " \n",
    "import twitter_credentials\n",
    "import numpy as np\n",
    "import pandas as pd"
   ]
  },
  {
   "cell_type": "code",
   "execution_count": 42,
   "metadata": {},
   "outputs": [],
   "source": [
    "# class TwitterClient():\n",
    "#     def __init__(self, twitter_user=None):\n",
    "#         self.auth = TwitterAuthenticator().authenticate_twitter_app()\n",
    "#         self.twitter_client = API(self.auth)\n",
    "\n",
    "#         self.twitter_user = twitter_user\n",
    "\n",
    "#     def get_twitter_client_api(self):\n",
    "#         return self.twitter_client\n",
    "\n",
    "#     def get_user_timeline_tweets(self, num_tweets):\n",
    "#         tweets = []\n",
    "#         for tweet in Cursor(self.twitter_client.user_timeline, id=self.twitter_user).items(num_tweets):\n",
    "#             tweets.append(tweet)\n",
    "#         return tweets\n",
    "\n",
    "#     def get_friend_list(self, num_friends):\n",
    "#         friend_list = []\n",
    "#         for friend in Cursor(self.twitter_client.friends, id=self.twitter_user).items(num_friends):\n",
    "#             friend_list.append(friend)\n",
    "#         return friend_list\n",
    "\n",
    "#     def get_home_timeline_tweets(self, num_tweets):\n",
    "#         home_timeline_tweets = []\n",
    "#         for tweet in Cursor(self.twitter_client.home_timeline, id=self.twitter_user).items(num_tweets):\n",
    "#             home_timeline_tweets.append(tweet)\n",
    "#         return home_timeline_tweets\n"
   ]
  },
  {
   "cell_type": "code",
   "execution_count": 43,
   "metadata": {},
   "outputs": [],
   "source": [
    "# # # # TWITTER AUTHENTICATER # # # #\n",
    "class TwitterAuthenticator():\n",
    "\n",
    "    def authenticate_twitter_app(self):\n",
    "        auth = OAuthHandler(twitter_credentials.CONSUMER_KEY, twitter_credentials.CONSUMER_SECRET)\n",
    "        auth.set_access_token(twitter_credentials.ACCESS_TOKEN, twitter_credentials.ACCESS_TOKEN_SECRET)\n",
    "        return auth\n",
    "#"
   ]
  },
  {
   "cell_type": "code",
   "execution_count": 44,
   "metadata": {},
   "outputs": [],
   "source": [
    "# # # # TWITTER STREAMER # # # #\n",
    "class TwitterStreamer():\n",
    "    \"\"\"\n",
    "    Class for streaming and processing live tweets.\n",
    "    \"\"\"\n",
    "    def __init__(self):\n",
    "        self.twitter_autenticator = TwitterAuthenticator()    \n",
    "\n",
    "    def stream_tweets(self, fetched_tweets_filename, hash_tag_list):\n",
    "        # This handles Twitter authetification and the connection to Twitter Streaming API\n",
    "        listener = TwitterListener(fetched_tweets_filename)\n",
    "        auth = self.twitter_autenticator.authenticate_twitter_app() \n",
    "        stream = Stream(auth, listener)\n",
    "\n",
    "        # This line filter Twitter Streams to capture data by the keywords: \n",
    "        stream.filter(track=hash_tag_list)\n"
   ]
  },
  {
   "cell_type": "code",
   "execution_count": 45,
   "metadata": {},
   "outputs": [],
   "source": [
    "# # # # TWITTER STREAM LISTENER # # # #\n",
    "class TwitterListener(StreamListener):\n",
    "    \"\"\"\n",
    "    This is a basic listener that just prints received tweets to stdout.\n",
    "    \"\"\"\n",
    "    def __init__(self, fetched_tweets_filename):\n",
    "        self.fetched_tweets_filename = fetched_tweets_filename\n",
    "\n",
    "    def on_data(self, data):\n",
    "        try:\n",
    "            print(data)\n",
    "            with open(self.fetched_tweets_filename, 'a') as tf:\n",
    "                tf.write(data)\n",
    "            return True\n",
    "        except BaseException as e:\n",
    "            print(\"Error on_data %s\" % str(e))\n",
    "        return True\n",
    "          \n",
    "    def on_error(self, status):\n",
    "        if status == 420:\n",
    "            # Returning False on_data method in case rate limit occurs.\n",
    "            return False\n",
    "        print(status)"
   ]
  },
  {
   "cell_type": "code",
   "execution_count": 83,
   "metadata": {},
   "outputs": [],
   "source": [
    "class TweetAnalyzer():\n",
    "    \"\"\"\n",
    "    Functionality for analyzing and categorizing content from tweets.\n",
    "    \"\"\"\n",
    "    def tweets_to_data_frame(self, tweets):\n",
    "        df = pd.DataFrame(data=[tweet.text for tweet in tweets], columns=['Tweets'])\n",
    "\n",
    "        \n",
    "        df['len'] = np.array([len(tweet.text) for tweet in tweets])\n",
    "        df['date'] = np.array([tweet.created_at for tweet in tweets])\n",
    "        df['likes'] = np.array([tweet.favorite_count for tweet in tweets])\n",
    "\n",
    "        return df\n"
   ]
  },
  {
   "cell_type": "code",
   "execution_count": 159,
   "metadata": {},
   "outputs": [
    {
     "name": "stdout",
     "output_type": "stream",
     "text": [
      "['__class__', '__delattr__', '__dict__', '__dir__', '__doc__', '__eq__', '__format__', '__ge__', '__getattribute__', '__gt__', '__hash__', '__init__', '__init_subclass__', '__le__', '__lt__', '__module__', '__ne__', '__new__', '__reduce__', '__reduce_ex__', '__repr__', '__setattr__', '__sizeof__', '__str__', '__subclasshook__', '__weakref__', '_add_list_members', '_lookup_friendships', '_lookup_users', '_pack_image', '_remove_list_members', '_statuses_lookup', 'add_list_member', 'add_list_members', 'api_root', 'auth', 'blocks', 'blocks_ids', 'cache', 'compression', 'configuration', 'create_block', 'create_favorite', 'create_friendship', 'create_list', 'create_mute', 'create_saved_search', 'destroy_block', 'destroy_direct_message', 'destroy_favorite', 'destroy_friendship', 'destroy_list', 'destroy_mute', 'destroy_saved_search', 'destroy_status', 'direct_messages', 'favorites', 'followers', 'followers_ids', 'friends', 'friends_ids', 'friendships_incoming', 'friendships_outgoing', 'geo_id', 'geo_search', 'geo_similar_places', 'get_direct_message', 'get_list', 'get_oembed', 'get_saved_search', 'get_settings', 'get_status', 'get_user', 'home_timeline', 'host', 'list_members', 'list_subscribers', 'list_timeline', 'lists_all', 'lists_memberships', 'lists_subscriptions', 'lookup_friendships', 'lookup_users', 'me', 'media_upload', 'mentions_timeline', 'mutes_ids', 'parser', 'proxy', 'rate_limit_status', 'related_results', 'remove_list_member', 'remove_list_members', 'report_spam', 'retry_count', 'retry_delay', 'retry_errors', 'retweet', 'retweeters', 'retweets', 'retweets_of_me', 'reverse_geocode', 'saved_searches', 'search', 'search_host', 'search_root', 'search_users', 'send_direct_message', 'sent_direct_messages', 'set_delivery_device', 'set_settings', 'show_friendship', 'show_list_member', 'show_list_subscriber', 'statuses_lookup', 'subscribe_list', 'suggested_categories', 'suggested_users', 'suggested_users_tweets', 'supported_languages', 'timeout', 'trends_available', 'trends_closest', 'trends_place', 'unretweet', 'unsubscribe_list', 'update_list', 'update_profile', 'update_profile_background_image', 'update_profile_banner', 'update_profile_image', 'update_status', 'update_with_media', 'upload_host', 'upload_root', 'user_timeline', 'verify_credentials', 'wait_on_rate_limit', 'wait_on_rate_limit_notify']\n"
     ]
    }
   ],
   "source": [
    "if __name__ == '__main__':\n",
    "\n",
    "    twitter_client = TwitterClient()\n",
    "    tweet_analyzer = TweetAnalyzer()\n",
    "\n",
    "    api = twitter_client.get_twitter_client_api()\n",
    "    print(dir(api))\n",
    "    api.\n",
    "\n",
    "    \n",
    "\n",
    "#     print(dir(tweets[0]))\n",
    "#     print(tweets[0].retweet_count)\n",
    "\n",
    "#     df = tweet_analyzer.tweets_to_data_frame(tweets)\n",
    "    "
   ]
  },
  {
   "cell_type": "code",
   "execution_count": 109,
   "metadata": {},
   "outputs": [],
   "source": [
    "from textblob import TextBlob"
   ]
  },
  {
   "cell_type": "code",
   "execution_count": 112,
   "metadata": {},
   "outputs": [
    {
     "name": "stdout",
     "output_type": "stream",
     "text": [
      "Billions of dollars are sent to the State of California for Forest fires that, with proper Forest Management, would… https://t.co/l5Jyjb8lEs\n",
      "Sentiment(polarity=0.0, subjectivity=0.1)\n",
      "Our Country is doing so well in so many ways. Great jobs numbers, with a record setting December. We are rebuilding… https://t.co/LWGj8t2N8L\n",
      "Sentiment(polarity=0.65, subjectivity=0.625)\n",
      "Thank you for soooo many nice comments regarding my Oval Office speech. A very interesting experience!\n",
      "Sentiment(polarity=0.6375000000000001, subjectivity=0.7166666666666667)\n",
      "https://t.co/Ft6FqQmYfI\n",
      "Sentiment(polarity=0.0, subjectivity=0.0)\n",
      "Congratulations to a truly great football team, the Clemson Tigers, on an incredible win last night against a power… https://t.co/1KtCS9qdVU\n",
      "Sentiment(polarity=0.625, subjectivity=0.5291666666666667)\n",
      "Talks with China are going very well!\n",
      "Sentiment(polarity=0.25, subjectivity=0.3)\n",
      "“The President is the biggest and best supporter of the Steel Industry in many years. We are now doing really well.… https://t.co/9daGoY2lSy\n",
      "Sentiment(polarity=0.5666666666666667, subjectivity=0.3333333333333333)\n",
      "Economic numbers looking REALLY good. Can you imagine if I had long term ZERO interest rates to play with like the… https://t.co/2rGF18wzy0\n",
      "Sentiment(polarity=0.28333333333333327, subjectivity=0.4000000000000001)\n",
      "Endless Wars, especially those which are fought out of judgement mistakes that were made many years ago, &amp; those wh… https://t.co/xib1biZeBG\n",
      "Sentiment(polarity=0.125, subjectivity=0.75)\n",
      "I am pleased to inform you that I will Address the Nation on the Humanitarian and National Security crisis on our S… https://t.co/hm3hcItIR3\n",
      "Sentiment(polarity=0.5, subjectivity=1.0)\n"
     ]
    }
   ],
   "source": [
    "for twt in tweets:\n",
    "    print(twt.text)\n",
    "    analysis=TextBlob(twt.text)\n",
    "    print(analysis.sentiment)\n",
    "    "
   ]
  },
  {
   "cell_type": "code",
   "execution_count": 122,
   "metadata": {},
   "outputs": [],
   "source": [
    "t=(tweets)[0]"
   ]
  },
  {
   "cell_type": "code",
   "execution_count": 130,
   "metadata": {},
   "outputs": [
    {
     "name": "stdout",
     "output_type": "stream",
     "text": [
      "Billions of dollars are sent to the State of California for Forest fires that, with proper Forest Management, would… https://t.co/l5Jyjb8lEs\n"
     ]
    },
    {
     "data": {
      "text/plain": [
       "Sentiment(polarity=0.0, subjectivity=0.1)"
      ]
     },
     "execution_count": 130,
     "metadata": {},
     "output_type": "execute_result"
    }
   ],
   "source": [
    "iki=TextBlob(t.text)\n",
    "print(iki)\n",
    "iki.sentiment\n",
    "\n"
   ]
  },
  {
   "cell_type": "code",
   "execution_count": 127,
   "metadata": {},
   "outputs": [],
   "source": [
    "t2=TextBlob(\"Billions of dollars are sent to the State of California for Forest fires that, with proper Forest Management, would never happen. Unless they get their act together, which is unlikely, I have ordered FEMA to send no more money. It is a disgraceful situation in lives & money!\")"
   ]
  },
  {
   "cell_type": "code",
   "execution_count": 128,
   "metadata": {},
   "outputs": [
    {
     "data": {
      "text/plain": [
       "Sentiment(polarity=-0.2708333333333333, subjectivity=0.3666666666666667)"
      ]
     },
     "execution_count": 128,
     "metadata": {},
     "output_type": "execute_result"
    }
   ],
   "source": [
    "t2.sentiment"
   ]
  },
  {
   "cell_type": "code",
   "execution_count": 129,
   "metadata": {},
   "outputs": [
    {
     "data": {
      "text/plain": [
       "Sentiment(polarity=-0.2708333333333333, subjectivity=0.3666666666666667)"
      ]
     },
     "execution_count": 129,
     "metadata": {},
     "output_type": "execute_result"
    }
   ],
   "source": [
    "t2.sentiment"
   ]
  },
  {
   "cell_type": "code",
   "execution_count": null,
   "metadata": {},
   "outputs": [],
   "source": []
  }
 ],
 "metadata": {
  "kernelspec": {
   "display_name": "Python 3",
   "language": "python",
   "name": "python3"
  },
  "language_info": {
   "codemirror_mode": {
    "name": "ipython",
    "version": 3
   },
   "file_extension": ".py",
   "mimetype": "text/x-python",
   "name": "python",
   "nbconvert_exporter": "python",
   "pygments_lexer": "ipython3",
   "version": "3.6.5"
  }
 },
 "nbformat": 4,
 "nbformat_minor": 2
}
