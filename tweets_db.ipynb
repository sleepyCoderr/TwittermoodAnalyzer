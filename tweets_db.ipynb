{
 "cells": [
  {
   "cell_type": "code",
   "execution_count": 58,
   "metadata": {},
   "outputs": [],
   "source": [
    "import pymongo\n",
    "from pymongo import MongoClient\n",
    "from bson import json_util\n",
    "import json\n",
    "import pprint\n",
    "import datetime\n",
    "from pytz import timezone\n",
    "import pytz\n",
    "import bson\n",
    "from bson.objectid import ObjectId"
   ]
  },
  {
   "cell_type": "code",
   "execution_count": 59,
   "metadata": {},
   "outputs": [],
   "source": [
    "client=MongoClient()\n",
    "db=client['tweetsdb']\n",
    "tweets=db['tweets']"
   ]
  },
  {
   "cell_type": "code",
   "execution_count": 4,
   "metadata": {},
   "outputs": [],
   "source": [
    "# with open('realdonaldtrump.json') as f:\n",
    "#     file_data = json.load(f)\n",
    "#     tweets.insert_many(file_data)\n"
   ]
  },
  {
   "cell_type": "code",
   "execution_count": 5,
   "metadata": {},
   "outputs": [],
   "source": [
    "# client.close()"
   ]
  },
  {
   "cell_type": "code",
   "execution_count": 156,
   "metadata": {},
   "outputs": [],
   "source": [
    "#this function updates all fields with the separated parts\n",
    "def insertupdate(id_t,tweet_date):\n",
    "    try:\n",
    "        tweets.update_one({\"_id\":ObjectId(f\"{id_t}\")},{\"$set\":{\"created_at_parts\":tweet_date}})\n",
    "    except Exception as e:\n",
    "        print(e)\n",
    "    else:\n",
    "        print(\"no errors\")\n",
    "#     tweets.insert_one({})\n",
    "\n",
    "\n",
    "\n",
    "def convertoint(id_t,tweet_date):\n",
    "    try:\n",
    "        tweets.update_one({\"_id\":ObjectId(f\"{id_t}\")},{\"$set\":{\"created_at_parts.Day\":tweet_date}})\n",
    "    except Exception as e:\n",
    "        print(e)\n",
    "\n",
    "    "
   ]
  },
  {
   "cell_type": "code",
   "execution_count": 161,
   "metadata": {},
   "outputs": [],
   "source": [
    "# #this block is to separate date string into separate parts\n",
    "created_at=tweets.find({},{\"created_at\":1,\"_id\":1})\n",
    "\n",
    "for twts in created_at:\n",
    "    date=datetime.datetime.strptime(twts[\"created_at\"],'%a %b %d %H:%M:%S +0000 %Y').replace(tzinfo=pytz.UTC)\n",
    "    dict_one={\"Month\":date.strftime(\"%b\"),\"Weekday\":date.strftime(\"%a\"),\"Day\":int(date.strftime(\"%d\")),\"Year\":date.year}\n",
    "    intday=int(date.strftime(\"%d\"))\n",
    "    tweet_id=twts[\"_id\"]\n",
    "    convertoint(tweet_id,intday)\n",
    "#     insertupdate(tweet_id,dict_one)"
   ]
  },
  {
   "cell_type": "code",
   "execution_count": 154,
   "metadata": {},
   "outputs": [],
   "source": [
    "# data=tweets.find({},{\"created_at_parts.Day\":1})\n",
    "# for twts in data:\n",
    "#     pprint.pprint(twts)\n"
   ]
  },
  {
   "cell_type": "code",
   "execution_count": null,
   "metadata": {},
   "outputs": [],
   "source": []
  }
 ],
 "metadata": {
  "kernelspec": {
   "display_name": "Python 3",
   "language": "python",
   "name": "python3"
  },
  "language_info": {
   "codemirror_mode": {
    "name": "ipython",
    "version": 3
   },
   "file_extension": ".py",
   "mimetype": "text/x-python",
   "name": "python",
   "nbconvert_exporter": "python",
   "pygments_lexer": "ipython3",
   "version": "3.6.5"
  }
 },
 "nbformat": 4,
 "nbformat_minor": 2
}
