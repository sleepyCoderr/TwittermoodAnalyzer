{
 "cells": [
  {
   "cell_type": "code",
   "execution_count": 1,
   "metadata": {},
   "outputs": [],
   "source": [
    "import tweepy\n",
    "import json\n",
    "import math\n",
    "import glob\n",
    "import csv\n",
    "import zipfile\n",
    "import zlib\n",
    "from tweepy import TweepError\n",
    "from time import sleep\n",
    "import twitter_credentials\n",
    "import oauth2 as oauth"
   ]
  },
  {
   "cell_type": "code",
   "execution_count": 10,
   "metadata": {},
   "outputs": [
    {
     "name": "stdout",
     "output_type": "stream",
     "text": [
      "<oauth2.Client object at 0x000001DC2DF983C8>\n"
     ]
    }
   ],
   "source": [
    "consumer=oauth.Consumer(key=twitter_credentials.CONSUMER_KEY,secret=twitter_credentials.CONSUMER_SECRET)\n",
    "access_token=oauth.Token(key=twitter_credentials.ACCESS_TOKEN,secret=twitter_credentials.ACCESS_TOKEN_SECRET)\n",
    "client=oauth.Client(consumer,access_token)\n",
    "print(client)"
   ]
  },
  {
   "cell_type": "code",
   "execution_count": 4,
   "metadata": {},
   "outputs": [],
   "source": [
    "user = 'realdonaldtrump'\n"
   ]
  },
  {
   "cell_type": "code",
   "execution_count": 5,
   "metadata": {},
   "outputs": [],
   "source": [
    "user = user.lower()\n",
    "output_file = '{}.json'.format(user)\n",
    "output_file_short = '{}_short.json'.format(user)\n",
    "compression = zipfile.ZIP_DEFLATED"
   ]
  },
  {
   "cell_type": "code",
   "execution_count": 11,
   "metadata": {},
   "outputs": [
    {
     "name": "stdout",
     "output_type": "stream",
     "text": [
      "total ids: 20\n",
      "['5c472b55ab09a13be42c2be7', '5c472b55ab09a13be42c2be8', '5c472b55ab09a13be42c2be9', '5c472b55ab09a13be42c2bea', '5c472b55ab09a13be42c2beb', '5c472b55ab09a13be42c2bec', '5c472b55ab09a13be42c2bed', '5c472b55ab09a13be42c2bee', '5c472b55ab09a13be42c2bef', '5c472b55ab09a13be42c2bf0', '5c472b55ab09a13be42c2bf1', '5c472b55ab09a13be42c2bf2', '5c472b55ab09a13be42c2bf3', '5c472b55ab09a13be42c2bf4', '5c472b55ab09a13be42c2bf5', '5c472b55ab09a13be42c2bf6', '5c472b55ab09a13be42c2bf7', '5c472b55ab09a13be42c2bf8', '5c472b55ab09a13be42c2bf9', '5c472b55ab09a13be42c2bfa']\n"
     ]
    }
   ],
   "source": [
    "with open('updated_ids.json') as f:\n",
    "    ids = json.load(f)\n",
    "\n",
    "print('total ids: {}'.format(len(ids)))\n",
    "print(ids)"
   ]
  },
  {
   "cell_type": "code",
   "execution_count": 15,
   "metadata": {},
   "outputs": [],
   "source": [
    "all_data = []\n",
    "start = 0\n",
    "end = 100\n",
    "limit = len(ids)\n",
    "i = math.ceil(limit / 100)"
   ]
  },
  {
   "cell_type": "code",
   "execution_count": 16,
   "metadata": {},
   "outputs": [
    {
     "name": "stdout",
     "output_type": "stream",
     "text": [
      "currently getting 0 - 100\n",
      "errors\n"
     ]
    }
   ],
   "source": [
    "for go in range(i):\n",
    "    print('currently getting {} - {}'.format(start, end))\n",
    "    sleep(6)  # needed to prevent hitting API rate limit\n",
    "    id_batch = ids[start:end]\n",
    "    start += 100\n",
    "    end += 100\n",
    "    # tweets = api.statuses_lookup(id_batch)\n",
    "    url=\"https://api.twitter.com/1.1/statuses/show.json?id=5c472b55ab09a13be42c2be7&tweet_mode=extended\"\n",
    "    response,data=client.request(url)\n",
    "    tweets=json.loads(data)\n",
    "    for tweet in tweets:\n",
    "        all_data.append(tweet)\n",
    "        print(tweet)"
   ]
  },
  {
   "cell_type": "code",
   "execution_count": null,
   "metadata": {},
   "outputs": [],
   "source": [
    "print('metadata collection complete')\n",
    "print('creating master json file')\n",
    "with open(output_file, 'w') as outfile:\n",
    "    json.dump(all_data, outfile)"
   ]
  },
  {
   "cell_type": "code",
   "execution_count": null,
   "metadata": {},
   "outputs": [],
   "source": [
    "print('creating ziped master json file')\n",
    "zf = zipfile.ZipFile('{}.zip'.format(user), mode='w')\n",
    "zf.write(output_file, compress_type=compression)\n",
    "zf.close()"
   ]
  },
  {
   "cell_type": "code",
   "execution_count": null,
   "metadata": {},
   "outputs": [],
   "source": [
    "def is_retweet(entry):\n",
    "    return 'retweeted_status' in entry.keys()\n",
    "\n",
    "def get_source(entry):\n",
    "    if '<' in entry[\"source\"]:\n",
    "        return entry[\"source\"].split('>')[1].split('<')[0]\n",
    "    else:\n",
    "        return entry[\"source\"]\n",
    "\n",
    "with open(output_file) as json_data:\n",
    "    data = json.load(json_data)\n",
    "    for entry in data:\n",
    "        t = {\n",
    "            \"created_at\": entry[\"created_at\"],\n",
    "            \"text\": entry[\"text\"],\n",
    "            \"in_reply_to_screen_name\": entry[\"in_reply_to_screen_name\"],\n",
    "            \"retweet_count\": entry[\"retweet_count\"],\n",
    "            \"favorite_count\": entry[\"favorite_count\"],\n",
    "            \"source\": get_source(entry),\n",
    "            \"id_str\": entry[\"id_str\"],\n",
    "            \"is_retweet\": is_retweet(entry)\n",
    "        }\n",
    "        results.append(t)"
   ]
  },
  {
   "cell_type": "code",
   "execution_count": null,
   "metadata": {},
   "outputs": [],
   "source": [
    "print('creating minimized json master file')\n",
    "with open(output_file_short, 'w') as outfile:\n",
    "    json.dump(results, outfile)\n",
    "\n",
    "with open(output_file_short) as master_file:\n",
    "    data = json.load(master_file)\n",
    "    fields = [\"favorite_count\", \"source\", \"text\", \"in_reply_to_screen_name\", \"is_retweet\", \"created_at\", \"retweet_count\", \"id_str\"]\n",
    "    print('creating CSV version of minimized json master file')\n",
    "    f = csv.writer(open('{}.csv'.format(user), 'w'))\n",
    "    f.writerow(fields)\n",
    "    for x in data:\n",
    "        f.writerow([x[\"favorite_count\"], x[\"source\"], x[\"text\"], x[\"in_reply_to_screen_name\"], x[\"is_retweet\"], x[\"created_at\"], x[\"retweet_count\"], x[\"id_str\"]])\n"
   ]
  }
 ],
 "metadata": {
  "kernelspec": {
   "display_name": "Python 3",
   "language": "python",
   "name": "python3"
  },
  "language_info": {
   "codemirror_mode": {
    "name": "ipython",
    "version": 3
   },
   "file_extension": ".py",
   "mimetype": "text/x-python",
   "name": "python",
   "nbconvert_exporter": "python",
   "pygments_lexer": "ipython3",
   "version": "3.6.5"
  }
 },
 "nbformat": 4,
 "nbformat_minor": 2
}
